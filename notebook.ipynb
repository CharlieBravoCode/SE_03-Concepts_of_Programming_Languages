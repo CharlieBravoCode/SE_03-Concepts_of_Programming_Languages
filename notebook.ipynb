{
 "cells": [
  {
   "attachments": {},
   "cell_type": "markdown",
   "metadata": {},
   "source": [
    "# Concepts of Programming Languages"
   ]
  },
  {
   "attachments": {},
   "cell_type": "markdown",
   "metadata": {},
   "source": [
    "## General Concepts:"
   ]
  },
  {
   "attachments": {},
   "cell_type": "markdown",
   "metadata": {},
   "source": [
    "### Variables and scoping\n",
    "\n",
    "In programming languages, variables are used to store and manipulate data. They act as containers for values that can be changed during program execution. Variables have a name (identifier) and a data type, which defines the kind of values the variable can store.\n",
    "\n",
    "Scoping refers to the visibility and lifetime of a variable within a program. There are two main types of scoping:\n",
    "\n",
    "- Local Scope: Variables declared within a function or a block of code have a local scope. They are only accessible within that function or block and are destroyed once the function or block is exited.\n",
    "\n",
    "- Global Scope: Variables declared outside of any function or block have a global scope. They can be accessed from anywhere within the program and their lifetime lasts as long as the program is running.\n",
    "\n",
    "Some languages also have other scoping rules, such as lexical (or static) scoping and dynamic scoping, but local and global scoping are the most common."
   ]
  },
  {
   "cell_type": "code",
   "execution_count": null,
   "metadata": {},
   "outputs": [],
   "source": [
    "# Global variable (accessible throughout the entire program)\n",
    "global_variable = \"I am a global variable\"\n",
    "\n",
    "def my_function():\n",
    "    # Local variable (only accessible within the function)\n",
    "    local_variable = \"I am a local variable\"\n",
    "    print(global_variable)  # This will work, as global_variable is accessible within the function\n",
    "    print(local_variable)   # This will also work, as local_variable is accessible within the function\n",
    "\n",
    "my_function()\n",
    "\n",
    "print(global_variable)  # This will work, as global_variable is accessible outside the function\n",
    "print(local_variable)   # This will raise an error, as local_variable is not accessible outside the function\n"
   ]
  },
  {
   "attachments": {},
   "cell_type": "markdown",
   "metadata": {},
   "source": [
    "#### Primitive data types\n",
    "\n",
    "Primitive data types are the basic building blocks of data in a programming language. They are the simplest data types that can be used to create more complex data structures. The exact set of primitive data types varies between programming languages, but some common ones include:\n",
    "\n",
    "- Integer (int): Represents whole numbers, both positive and negative. Examples: 42, -3, 0\n",
    "\n",
    "- Floating-point (float, double): Represents real numbers, i.e., numbers with a decimal point. Float usually has less precision (less number of decimal places) than double. Examples: 3.14, -0.003, 7.0\n",
    "\n",
    "- Boolean (bool): Represents a binary value, either true or false.\n",
    "\n",
    "- Character (char): Represents a single character, such as a letter, digit, or special symbol. Examples: 'A', '7', '%'\n",
    "\n",
    "Some languages may also include other primitive data types, such as byte (for small integers), short (for medium-sized integers), and long (for large integers), among others.\n",
    "\n",
    "Understanding variables, scoping, and primitive data types is crucial for programming, as they form the foundation for working with data in any programming language."
   ]
  },
  {
   "cell_type": "code",
   "execution_count": null,
   "metadata": {},
   "outputs": [],
   "source": [
    "# Integer\n",
    "my_integer = 42\n",
    "print(my_integer)  # Output: 42\n",
    "\n",
    "# Floating-point\n",
    "my_float = 3.14\n",
    "print(my_float)  # Output: 3.14\n",
    "\n",
    "# Boolean\n",
    "my_boolean = True\n",
    "print(my_boolean)  # Output: True\n",
    "\n",
    "# Character (In Python, characters are represented as strings of length 1)\n",
    "my_char = 'A'\n",
    "print(my_char)  # Output: A\n"
   ]
  },
  {
   "attachments": {},
   "cell_type": "markdown",
   "metadata": {},
   "source": [
    "### Type Systems\n",
    "A type system is a set of rules that a programming language follows to manage data types and their interactions. Type systems are important because they help catch potential errors during the development process and ensure that operations on data make sense. There are two primary aspects of type systems we will discuss: static/dynamic typing and type inference.\n",
    "\n",
    "#### Static/dynamic typing\n",
    "Static typing and dynamic typing refer to how and when a programming language checks the types of variables and expressions.\n",
    "\n",
    "- Static typing: In statically-typed languages, type checking occurs at compile-time. Variables have a fixed type, which must be declared explicitly or implicitly when a variable is defined. Examples of statically-typed languages include Java, C++, and C#.\n",
    "\n",
    "- Dynamic typing: In dynamically-typed languages, type checking occurs at runtime. Variables can change their type during the execution of the program, and there is no need to declare the type when defining a variable. Examples of dynamically-typed languages include Python, Ruby, and JavaScript.\n",
    "\n",
    "#### Type inference\n",
    "Type inference refers to the ability of a programming language to automatically deduce the type of a variable or an expression based on the context. This is often used in statically-typed languages to allow the programmer to omit explicit type annotations, making the code shorter and more readable.\n",
    "\n",
    "Languages with strong type inference capabilities include Haskell, Scala, and Kotlin. Some languages, like Java and C#, have limited type inference capabilities using the var keyword (Java 10+ and C# 3.0+)."
   ]
  },
  {
   "cell_type": "code",
   "execution_count": null,
   "metadata": {
    "vscode": {
     "languageId": "javascript"
    }
   },
   "outputs": [],
   "source": [
    "// In Java, you must declare the type of a variable explicitly\n",
    "int myInteger = 42;\n",
    "String myString = \"Hello, world!\";\n",
    "\n",
    "// This will result in a compile-time error due to incompatible types\n",
    "myString = myInteger;\n"
   ]
  },
  {
   "cell_type": "code",
   "execution_count": null,
   "metadata": {},
   "outputs": [],
   "source": [
    "# In Python, you don't need to declare the type of a variable explicitly\n",
    "my_variable = 42\n",
    "print(my_variable)  # Output: 42\n",
    "\n",
    "# The type of the variable can change during the execution of the program\n",
    "my_variable = \"Hello, world!\"\n",
    "print(my_variable)  # Output: Hello, world!\n"
   ]
  },
  {
   "cell_type": "code",
   "execution_count": null,
   "metadata": {
    "vscode": {
     "languageId": "javascript"
    }
   },
   "outputs": [],
   "source": [
    "// In Kotlin, you can use 'val' or 'var' for type inference\n",
    "val myInteger = 42  // The compiler infers the type as 'Int'\n",
    "val myString = \"Hello, world!\"  // The compiler infers the type as 'String'\n",
    "\n",
    "// This will result in a compile-time error due to incompatible types\n",
    "// myString = myInteger\n"
   ]
  },
  {
   "attachments": {},
   "cell_type": "markdown",
   "metadata": {},
   "source": [
    "## Object-oriented concepts"
   ]
  },
  {
   "attachments": {},
   "cell_type": "markdown",
   "metadata": {},
   "source": [
    "### Classes and objects\n",
    "\n",
    "In object-oriented programming (OOP), a class is a blueprint for creating objects, which are instances of that class. Classes define the properties (attributes) and behaviors (methods) that the objects will have. Objects are instances of classes, and each object has its own state (values of its attributes) and can perform actions using its methods.\n",
    "\n"
   ]
  },
  {
   "cell_type": "code",
   "execution_count": null,
   "metadata": {},
   "outputs": [],
   "source": [
    "class Dog:\n",
    "    def __init__(self, name, breed):\n",
    "        self.name = name\n",
    "        self.breed = breed\n",
    "\n",
    "    def bark(self):\n",
    "        print(f\"{self.name} says: Woof!\")\n",
    "\n",
    "# Create an object (instance of the Dog class)\n",
    "my_dog = Dog(\"Buddy\", \"Golden Retriever\")\n",
    "\n",
    "# Access object's attributes and methods\n",
    "print(my_dog.name)   # Output: Buddy\n",
    "print(my_dog.breed)  # Output: Golden Retriever\n",
    "my_dog.bark()        # Output: Buddy says: Woof!\n"
   ]
  },
  {
   "attachments": {},
   "cell_type": "markdown",
   "metadata": {},
   "source": [
    "### Inheritance\n",
    "\n",
    "Inheritance is a mechanism in OOP that allows one class to inherit properties (attributes) and behaviors (methods) from another class. This helps in reusing code and creating a hierarchy of related classes.\n",
    "\n",
    "- Single inheritance: A class inherits from only one base class (parent class).\n",
    "- Multiple inheritance: A class inherits from multiple base classes.\n",
    "- Interface inheritance: A class inherits only the signatures (method declarations) of the methods from an interface, but not their implementation.\n",
    "- Abstract classes: Classes that cannot be instantiated and are meant to be subclassed. They can have both implemented and unimplemented methods.\n",
    "- Prototype-based inheritance: In some languages (like JavaScript), objects can inherit directly from other objects without the need for classes.\n",
    "- Class-based inheritance: Inheritance based on classes, used in languages like Java, C++, and Python."
   ]
  },
  {
   "cell_type": "code",
   "execution_count": null,
   "metadata": {},
   "outputs": [],
   "source": [
    "# Single inheritance\n",
    "class Animal:\n",
    "    def __init__(self, name):\n",
    "        self.name = name\n",
    "\n",
    "class Dog(Animal):\n",
    "    def bark(self):\n",
    "        print(f\"{self.name} says: Woof!\")\n",
    "\n",
    "# Create an object (instance of the Dog class)\n",
    "my_dog = Dog(\"Buddy\")\n",
    "my_dog.bark()  # Output: Buddy says: Woof!\n"
   ]
  },
  {
   "attachments": {},
   "cell_type": "markdown",
   "metadata": {},
   "source": [
    "### Polymorphism\n",
    "Polymorphism is the ability of different objects to respond to the same method call in a way that is specific to their individual types. It allows for more abstract and flexible code by enabling the same interface to be used with different types.\n",
    "\n",
    "- Dynamic dispatch: The process of selecting the appropriate method implementation at runtime based on the type of the object.\n",
    "- Late binding: The process of resolving method calls to their actual implementation at runtime, as opposed to compile time."
   ]
  },
  {
   "cell_type": "code",
   "execution_count": null,
   "metadata": {},
   "outputs": [],
   "source": [
    "class Animal:\n",
    "    def speak(self):\n",
    "        pass\n",
    "\n",
    "class Dog(Animal):\n",
    "    def speak(self):\n",
    "        print(\"Woof!\")\n",
    "\n",
    "class Cat(Animal):\n",
    "    def speak(self):\n",
    "        print(\"Meow!\")\n",
    "\n",
    "def make_animal_speak(animal):\n",
    "    animal.speak()\n",
    "\n",
    "# Polymorphism in action\n",
    "dog = Dog()\n",
    "cat = Cat()\n",
    "\n",
    "make_animal_speak(dog)  # Output: Woof!\n",
    "make_animal_speak(cat)  # Output: Meow!\n"
   ]
  },
  {
   "attachments": {},
   "cell_type": "markdown",
   "metadata": {},
   "source": [
    "These examples demonstrate the core concepts of object-oriented programming, including classes, objects, inheritance, and polymorphism. Keep in mind that the specific syntax and behavior may vary between different languages, so always consult the language documentation for details."
   ]
  },
  {
   "attachments": {},
   "cell_type": "markdown",
   "metadata": {},
   "source": [
    "## Functional concepts:"
   ]
  },
  {
   "attachments": {},
   "cell_type": "markdown",
   "metadata": {},
   "source": [
    "### Pure functions and referential transparency\n",
    "A pure function is a function that meets the following criteria:\n",
    "\n",
    "- The output depends only on its input arguments, without any hidden state or external dependencies.\n",
    "It does not cause any side effects, such as modifying global variables or changing the input arguments.\n",
    "- Referential transparency is a property of a function where it can be replaced with its output value without affecting the behavior of the program. In other words, given the same input, a referentially transparent function will always produce the same output."
   ]
  },
  {
   "cell_type": "code",
   "execution_count": null,
   "metadata": {},
   "outputs": [],
   "source": [
    "# A pure function with referential transparency\n",
    "def add(x, y):\n",
    "    return x + y\n",
    "\n",
    "result1 = add(2, 3)  # Output: 5\n",
    "result2 = add(2, 3)  # Output: 5 (same output for the same input)\n"
   ]
  },
  {
   "attachments": {},
   "cell_type": "markdown",
   "metadata": {},
   "source": [
    "### Anonymous functions and lambda expressions\n",
    "\n",
    "An anonymous function is a function that is defined without a name. They are usually short and simple functions that can be used as arguments to other functions or as a part of a more complex expression. Lambda expressions are a way to create anonymous functions in some programming languages, including Python."
   ]
  },
  {
   "cell_type": "code",
   "execution_count": null,
   "metadata": {},
   "outputs": [],
   "source": [
    "# A lambda function that adds two numbers\n",
    "add = lambda x, y: x + y\n",
    "\n",
    "result = add(2, 3)  # Output: 5\n"
   ]
  },
  {
   "attachments": {},
   "cell_type": "markdown",
   "metadata": {},
   "source": [
    "### Higher-order functions\n",
    "Higher-order functions are functions that can take other functions as arguments or return them as results. They are a fundamental concept in functional programming and enable powerful techniques such as composition and partial application.\n",
    "\n",
    "Some common higher-order functions include map, filter, and reduce.\n",
    "\n",
    "- map: Applies a function to each item in an input list and returns a new list with the results.\n",
    "- filter: Filters the items in an input list based on a predicate function and returns a new list with the items that pass the predicate.\n",
    "- reduce: Applies a function to the items in an input list in a cumulative way, reducing the list to a single value."
   ]
  },
  {
   "cell_type": "code",
   "execution_count": null,
   "metadata": {},
   "outputs": [],
   "source": [
    "numbers = [1, 2, 3, 4, 5]\n",
    "\n",
    "# Using map to square each number in the list\n",
    "squared_numbers = list(map(lambda x: x * x, numbers))\n",
    "print(squared_numbers)  # Output: [1, 4, 9, 16, 25]\n",
    "\n",
    "# Using filter to get only the even numbers in the list\n",
    "even_numbers = list(filter(lambda x: x % 2 == 0, numbers))\n",
    "print(even_numbers)  # Output: [2, 4]\n",
    "\n",
    "# Using reduce to find the product of all numbers in the list\n",
    "from functools import reduce\n",
    "product = reduce(lambda x, y: x * y, numbers)\n",
    "print(product)  # Output: 120\n"
   ]
  },
  {
   "attachments": {},
   "cell_type": "markdown",
   "metadata": {},
   "source": [
    "These examples demonstrate the core concepts of functional programming, including pure functions, referential transparency, anonymous functions, lambda expressions, and higher-order functions. Keep in mind that the specific syntax and behavior may vary between different languages, so always consult the language documentation for details."
   ]
  },
  {
   "attachments": {},
   "cell_type": "markdown",
   "metadata": {},
   "source": [
    "## Advanced Topics"
   ]
  },
  {
   "attachments": {},
   "cell_type": "markdown",
   "metadata": {},
   "source": [
    "### Memory Management\n",
    "\n",
    "Memory management is the process of handling the allocation and deallocation of memory during the execution of a program. Memory management can be performed manually by the programmer, or automatically by the language runtime through mechanisms like garbage collection."
   ]
  },
  {
   "attachments": {},
   "cell_type": "markdown",
   "metadata": {},
   "source": [
    "#### Heap and stack\n",
    "\n",
    "The heap and stack are two areas of memory used by programs:\n",
    "\n",
    "- Heap: The heap is an area of memory used for dynamic memory allocation. Objects that are created during the runtime of a program are typically stored on the heap. The size of the heap can grow or shrink during the execution of a program.\n",
    "- Stack: The stack is an area of memory used for static memory allocation. It stores local variables and function call information. The stack follows a Last-In-First-Out (LIFO) structure, and its size is determined at compile time."
   ]
  },
  {
   "attachments": {},
   "cell_type": "markdown",
   "metadata": {},
   "source": [
    "#### Manual cleanup vs. garbage collection\n",
    "\n",
    "Manual cleanup: In languages like C and C++, the programmer is responsible for allocating and deallocating memory. This allows for more control over memory usage but can lead to issues like memory leaks, dangling pointers, and double-free errors."
   ]
  },
  {
   "cell_type": "code",
   "execution_count": null,
   "metadata": {},
   "outputs": [],
   "source": [
    "// Example in C\n",
    "#include <stdio.h>\n",
    "#include <stdlib.h>\n",
    "\n",
    "int main() {\n",
    "    int *array = malloc(10 * sizeof(int));  // Allocate memory on the heap\n",
    "\n",
    "    // Use the array...\n",
    "\n",
    "    free(array);  // Deallocate memory when it's no longer needed\n",
    "    return 0;\n",
    "}\n"
   ]
  },
  {
   "attachments": {},
   "cell_type": "markdown",
   "metadata": {},
   "source": [
    "Garbage collection: In languages like Java, Python, and C#, memory management is mostly automated through garbage collection. The garbage collector automatically identifies and deallocates objects that are no longer in use, which reduces the chances of memory leaks and related issues."
   ]
  },
  {
   "cell_type": "code",
   "execution_count": null,
   "metadata": {
    "vscode": {
     "languageId": "javascript"
    }
   },
   "outputs": [],
   "source": [
    "// Example in Java\n",
    "public class Main {\n",
    "    public static void main(String[] args) {\n",
    "        int[] array = new int[10];  // Allocate memory on the heap\n",
    "\n",
    "        // Use the array...\n",
    "\n",
    "        // No need to manually deallocate memory; the garbage collector will handle it\n",
    "    }\n",
    "}\n"
   ]
  },
  {
   "attachments": {},
   "cell_type": "markdown",
   "metadata": {},
   "source": [
    "### Reflection\n",
    "\n",
    "Reflection is a mechanism that allows programs to inspect and interact with their own structure and behavior at runtime. This includes examining the types, methods, and fields of objects, as well as creating new instances, invoking methods, and modifying fields."
   ]
  },
  {
   "cell_type": "code",
   "execution_count": null,
   "metadata": {},
   "outputs": [],
   "source": [
    "class MyClass:\n",
    "    def __init__(self, x):\n",
    "        self.x = x\n",
    "\n",
    "    def print_x(self):\n",
    "        print(self.x)\n",
    "\n",
    "# Create an instance of MyClass\n",
    "obj = MyClass(42)\n",
    "\n",
    "# Get the type of the object\n",
    "obj_type = type(obj)\n",
    "print(obj_type)  # Output: <class '__main__.MyClass'>\n",
    "\n",
    "# Get the list of methods and attributes of the object\n",
    "print(dir(obj))\n",
    "\n",
    "# Invoke the print_x method using reflection\n",
    "getattr(obj, 'print_x')()  # Output: 42\n"
   ]
  },
  {
   "attachments": {},
   "cell_type": "markdown",
   "metadata": {},
   "source": [
    "### Generics\n",
    "\n",
    "Generics are a mechanism that allows the creation of classes, interfaces, and functions with placeholders for the types they operate on. This enables code reuse, type safety, and better separation of concerns. Generics are supported in languages like Java, C#, and Kotlin."
   ]
  },
  {
   "cell_type": "code",
   "execution_count": null,
   "metadata": {
    "vscode": {
     "languageId": "javascript"
    }
   },
   "outputs": [],
   "source": [
    "// A simple generic class in Java\n",
    "public class Box<T> {\n",
    "    private T contents;\n",
    "\n",
    "    public Box(T contents) {\n",
    "        this.contents = contents;\n",
    "    }\n",
    "\n",
    "    public T getContents() {\n",
    "        return contents;\n",
    "    }\n",
    "\n",
    "    public void setContents(T contents) {\n",
    "        this.contents = contents;\n",
    "    }\n",
    "}\n",
    "\n",
    "public class Main {\n",
    "    public static void main(String[] args) {\n",
    "        Box<Integer> intBox = new Box<>(42);\n",
    "        System.out.println(intBox.getContents());  // Output: 42\n",
    "\n",
    "        Box<String\n"
   ]
  },
  {
   "attachments": {},
   "cell_type": "markdown",
   "metadata": {},
   "source": [
    "### Language Implementation (Compilers/Interpreters)\n",
    "\n",
    "A compiler is a program that translates source code written in a high-level programming language into a lower-level language, usually machine code or assembly language. An interpreter, on the other hand, is a program that directly executes the instructions in the source code without translating it into a lower-level language.\n",
    "\n",
    "The process of language implementation typically consists of the following stages:"
   ]
  },
  {
   "attachments": {},
   "cell_type": "markdown",
   "metadata": {},
   "source": [
    "#### Lexical analysis\n",
    "Lexical analysis is the process of converting the input source code into a sequence of tokens. A token is a representation of a basic syntactic element in the source code, such as an identifier, keyword, or operator."
   ]
  },
  {
   "cell_type": "code",
   "execution_count": null,
   "metadata": {},
   "outputs": [],
   "source": [
    "# Example input (Python source code)\n",
    "x = 42\n",
    "\n",
    "# Example output (tokens)\n",
    "[('identifier', 'x'), ('operator', '='), ('number', 42)]\n"
   ]
  },
  {
   "attachments": {},
   "cell_type": "markdown",
   "metadata": {},
   "source": [
    "#### Parsing\n",
    "\n",
    "Parsing is the process of analyzing the sequence of tokens generated by the lexical analyzer to produce a parse tree, which represents the syntactic structure of the source code. This step usually involves checking the code for syntax errors."
   ]
  },
  {
   "cell_type": "code",
   "execution_count": null,
   "metadata": {},
   "outputs": [],
   "source": [
    "# Example input (tokens)\n",
    "[('identifier', 'x'), ('operator', '='), ('number', 42)]\n",
    "\n",
    "# Example output (parse tree)\n",
    "Assignment(Variable('x'), Number(42))\n"
   ]
  },
  {
   "attachments": {},
   "cell_type": "markdown",
   "metadata": {},
   "source": [
    "#### Semantic analysis\n",
    "Semantic analysis is the process of checking the code for semantic errors, such as type mismatches and undeclared variables. This step also involves activities like type checking, static analysis, and symbol table construction."
   ]
  },
  {
   "cell_type": "code",
   "execution_count": null,
   "metadata": {},
   "outputs": [],
   "source": [
    "# Example input (parse tree)\n",
    "Assignment(Variable('x'), Number(42))\n",
    "\n",
    "# Example output (annotated parse tree)\n",
    "Assignment(Variable('x', type='int'), Number(42, type='int'))\n"
   ]
  },
  {
   "attachments": {},
   "cell_type": "markdown",
   "metadata": {},
   "source": [
    "### Code optimization\n",
    "\n",
    "Code optimization is an optional step in the compilation process that aims to improve the performance of the generated code. This can include techniques such as constant folding, dead code elimination, and loop unrolling."
   ]
  },
  {
   "cell_type": "code",
   "execution_count": null,
   "metadata": {},
   "outputs": [],
   "source": [
    "# Example input (annotated parse tree)\n",
    "Assignment(Variable('x', type='int'), Add(Number(20, type='int'), Number(22, type='int')))\n",
    "\n",
    "# Example output (optimized parse tree)\n",
    "Assignment(Variable('x', type='int'), Number(42, type='int'))\n"
   ]
  },
  {
   "attachments": {},
   "cell_type": "markdown",
   "metadata": {},
   "source": [
    "#### Code generation\n",
    "\n",
    "Code generation is the final step in the compilation process, where the compiler generates the target code (usually machine code or assembly language) from the optimized parse tree or intermediate representation."
   ]
  },
  {
   "cell_type": "code",
   "execution_count": null,
   "metadata": {},
   "outputs": [],
   "source": [
    "# Example input (optimized parse tree)\n",
    "Assignment(Variable('x', type='int'), Number(42, type='int'))\n",
    "\n",
    "# Example output (assembly code)\n",
    "MOV eax, 42\n",
    "MOV [x], eax\n"
   ]
  },
  {
   "attachments": {},
   "cell_type": "markdown",
   "metadata": {},
   "source": [
    "These examples demonstrate a simplified view of the different stages involved in the process of implementing programming languages using compilers and interpreters. In practice, these stages can be more complex and may involve additional steps, such as intermediate code generation and peephole optimization. The specific details and techniques used in each stage may vary depending on the programming language and the target platform."
   ]
  }
 ],
 "metadata": {
  "language_info": {
   "name": "python"
  },
  "orig_nbformat": 4
 },
 "nbformat": 4,
 "nbformat_minor": 2
}
